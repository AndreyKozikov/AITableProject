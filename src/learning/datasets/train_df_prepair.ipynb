{
 "nbformat": 4,
 "nbformat_minor": 0,
 "metadata": {
  "colab": {
   "provenance": []
  },
  "kernelspec": {
   "name": "python3",
   "display_name": "Python 3 (ipykernel)",
   "language": "python"
  },
  "language_info": {
   "name": "python"
  }
 },
 "cells": [
  {
   "cell_type": "code",
   "metadata": {
    "id": "ILNmYVYIMN4p",
    "ExecuteTime": {
     "end_time": "2025-09-04T15:25:16.781239Z",
     "start_time": "2025-09-04T15:25:16.778727Z"
    }
   },
   "source": [
    "import os\n",
    "import json\n",
    "import pandas as pd"
   ],
   "outputs": [],
   "execution_count": 14
  },
  {
   "metadata": {
    "ExecuteTime": {
     "end_time": "2025-09-04T15:28:06.478229Z",
     "start_time": "2025-09-04T15:28:06.474393Z"
    }
   },
   "cell_type": "code",
   "source": [
    "def clean_value(x):\n",
    "    import pandas as pd\n",
    "    if pd.isna(x):  # NaN → None\n",
    "        return None\n",
    "    if hasattr(x, \"item\"):\n",
    "        x = x.item()\n",
    "    return str(x)   # всё приводим к строке"
   ],
   "outputs": [],
   "execution_count": 17
  },
  {
   "cell_type": "code",
   "source": [
    "DATA_DIR = \"./data\"\n",
    "\n",
    "# Выходной файл\n",
    "OUTPUT_FILE = \"./data/train.jsonl\"\n",
    "\n",
    "dataset = []\n",
    "\n",
    "\n",
    "for fname in os.listdir(DATA_DIR):\n",
    "\n",
    "    if fname.endswith(\" simple.csv\"):\n",
    "        # Находим исходный файл\n",
    "        base_name = fname.replace(\" simple.csv\", \".csv\")\n",
    "        simple_path = os.path.join(DATA_DIR, fname)\n",
    "        input_path = os.path.join(DATA_DIR, base_name)\n",
    "\n",
    "        if not os.path.exists(input_path):\n",
    "            print(f\"Не найден входной файл для {fname}\")\n",
    "            continue\n",
    "\n",
    "        # Загружаем оба файла\n",
    "        df_in = pd.read_csv(input_path, sep=\";\", encoding=\"utf-8-sig\", header=None)\n",
    "        df_out = pd.read_csv(simple_path, sep=\";\", encoding=\"utf-8\")\n",
    "\n",
    "        # Проверяем размерность\n",
    "        if len(df_in) != len(df_out):\n",
    "            print(f\"Предупреждение: строки не совпадают ({base_name})\")\n",
    "\n",
    "        for i in range(min(len(df_in), len(df_out))):\n",
    "            input_row = [clean_value(x) for x in df_in.iloc[i].tolist()]\n",
    "            output_row = {k: clean_value(v) for k, v in df_out.iloc[i].to_dict().items()}\n",
    "\n",
    "            dataset.append({\n",
    "                \"input\": input_row,   # теперь всегда список строк\n",
    "                \"output\": output_row  # словарь со строковыми значениями\n",
    "            })\n",
    "\n",
    "# Сохраняем в JSONL\n",
    "with open(OUTPUT_FILE, \"w\", encoding=\"utf-8\") as f:\n",
    "    for row in dataset:\n",
    "        f.write(json.dumps(row, ensure_ascii=False) + \"\\n\")\n",
    "\n",
    "print(f\"Датасет сохранён в {OUTPUT_FILE}, всего пар: {len(dataset)}\")"
   ],
   "metadata": {
    "colab": {
     "base_uri": "https://localhost:8080/"
    },
    "id": "2mx_dNlAMmua",
    "outputId": "b39528bc-8f04-4fa8-c847-3bac36374867",
    "ExecuteTime": {
     "end_time": "2025-09-04T15:28:07.671660Z",
     "start_time": "2025-09-04T15:28:07.646998Z"
    }
   },
   "outputs": [
    {
     "name": "stdout",
     "output_type": "stream",
     "text": [
      "Датасет сохранён в ./data/train.jsonl, всего пар: 169\n"
     ]
    }
   ],
   "execution_count": 18
  },
  {
   "cell_type": "code",
   "source": [],
   "metadata": {
    "id": "utRxUpL3N8KS"
   },
   "execution_count": null,
   "outputs": []
  }
 ]
}
