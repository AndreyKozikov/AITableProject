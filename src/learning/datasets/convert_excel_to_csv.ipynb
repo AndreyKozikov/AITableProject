{
 "nbformat": 4,
 "nbformat_minor": 0,
 "metadata": {
  "colab": {
   "provenance": []
  },
  "kernelspec": {
   "name": "python3",
   "display_name": "Python 3 (ipykernel)",
   "language": "python"
  },
  "language_info": {
   "name": "python"
  }
 },
 "cells": [
  {
   "cell_type": "code",
   "metadata": {
    "id": "W9De8jUu-vRK",
    "ExecuteTime": {
     "end_time": "2025-09-04T15:20:29.783817Z",
     "start_time": "2025-09-04T15:20:29.780772Z"
    }
   },
   "source": [
    "import pandas as pd\n",
    "import os"
   ],
   "outputs": [],
   "execution_count": 8
  },
  {
   "cell_type": "code",
   "source": [
    "DATA_DIR = \"./data\"\n",
    "\n",
    "for fname in os.listdir(DATA_DIR):\n",
    "    if fname.endswith(\".xlsx\"):\n",
    "        fpath = os.path.join(DATA_DIR, fname)\n",
    "\n",
    "        try:\n",
    "            # читаем лист \"simple\"\n",
    "            df = pd.read_excel(fpath, sheet_name=\"simple\", header=0)\n",
    "\n",
    "            # формируем имя для сохранения\n",
    "            base_name = os.path.splitext(fname)[0]\n",
    "            out_name = f\"{base_name} simple.csv\"\n",
    "            out_path = os.path.join(DATA_DIR, out_name)\n",
    "\n",
    "            # сохраняем в CSV без заголовков\n",
    "            df.to_csv(out_path, index=False, sep=\";\")\n",
    "\n",
    "            print(f\"✅ Сохранён {out_path}\")\n",
    "        except Exception as e:\n",
    "            print(f\"❌ Ошибка с файлом {fname}: {e}\")"
   ],
   "metadata": {
    "id": "xPQrEUoJ_Zql",
    "ExecuteTime": {
     "end_time": "2025-09-04T15:20:37.989893Z",
     "start_time": "2025-09-04T15:20:37.950740Z"
    }
   },
   "outputs": [
    {
     "name": "stdout",
     "output_type": "stream",
     "text": [
      "✅ Сохранён ./data\\2409038В КП ОСНАСТИК simple.csv\n",
      "✅ Сохранён ./data\\28510 оснастка simple.csv\n",
      "✅ Сохранён ./data\\40573 зц оснастка simple.csv\n",
      "✅ Сохранён ./data\\UKA-24-0191 simple.csv\n",
      "✅ Сохранён ./data\\скан Dandrea simple.csv\n"
     ]
    }
   ],
   "execution_count": 9
  }
 ]
}
